{
 "cells": [
  {
   "cell_type": "code",
   "execution_count": 61,
   "metadata": {},
   "outputs": [
    {
     "data": {
      "text/plain": [
       "693"
      ]
     },
     "execution_count": 61,
     "metadata": {},
     "output_type": "execute_result"
    }
   ],
   "source": [
    "import numpy as np\n",
    "import pandas as pd\n",
    "import os\n",
    "import matplotlib.pyplot as plt\n",
    "import re\n",
    "import warnings\n",
    "warnings.filterwarnings('ignore')\n",
    "files = os.listdir('data')\n",
    "df = np.empty([0, 8])\n",
    "for file in files:\n",
    "    if \"publ_2017\" not in file: continue\n",
    "    #arr = np.genfromtxt('data/'+file, delimiter=\"','\")\n",
    "    arr = pd.read_csv('data/'+file, delimiter=\"','\", engine='python')\n",
    "    #if arr.shape[0] == 0: continue\n",
    "    df = np.concatenate((df, arr))\n",
    "    break\n",
    "df = pd.DataFrame(df, columns=['publ_year', 'publ_month', 'publ_day', 'decision_date', 'number', 'subject', 'subject_desc', 'content'])\n",
    "len(df)"
   ]
  },
  {
   "cell_type": "code",
   "execution_count": 80,
   "metadata": {},
   "outputs": [
    {
     "data": {
      "text/html": [
       "<div>\n",
       "<style>\n",
       "    .dataframe thead tr:only-child th {\n",
       "        text-align: right;\n",
       "    }\n",
       "\n",
       "    .dataframe thead th {\n",
       "        text-align: left;\n",
       "    }\n",
       "\n",
       "    .dataframe tbody tr th {\n",
       "        vertical-align: top;\n",
       "    }\n",
       "</style>\n",
       "<table border=\"1\" class=\"dataframe\">\n",
       "  <thead>\n",
       "    <tr style=\"text-align: right;\">\n",
       "      <th></th>\n",
       "      <th>publ_year</th>\n",
       "      <th>publ_month</th>\n",
       "      <th>publ_day</th>\n",
       "      <th>decision_date</th>\n",
       "      <th>number</th>\n",
       "      <th>subject</th>\n",
       "      <th>subject_desc</th>\n",
       "      <th>content</th>\n",
       "      <th>dec_day</th>\n",
       "      <th>dec_month</th>\n",
       "      <th>dec_year</th>\n",
       "      <th>content_len</th>\n",
       "      <th>ref_articles</th>\n",
       "      <th>ref_articles_len</th>\n",
       "      <th>ref_bge</th>\n",
       "      <th>ref_bge_len</th>\n",
       "      <th>ref_publ</th>\n",
       "      <th>ref_publ_len</th>\n",
       "    </tr>\n",
       "  </thead>\n",
       "  <tbody>\n",
       "    <tr>\n",
       "      <th>0</th>\n",
       "      <td>'2017</td>\n",
       "      <td>7</td>\n",
       "      <td>3</td>\n",
       "      <td>29.05.2017</td>\n",
       "      <td>2C_1153/2016</td>\n",
       "      <td>Gesundheitswesen &amp; soziale Sicherheit</td>\n",
       "      <td>Bronchialpastillen, Verlängerung der Zulassung...</td>\n",
       "      <td>\\n      \\n\\xa0\\nBundesgericht\\xa0\\nTribunal f\\...</td>\n",
       "      <td>29</td>\n",
       "      <td>05</td>\n",
       "      <td>2017</td>\n",
       "      <td>21835</td>\n",
       "      <td>[Art. 84 Abs. 1 , Art. 82 , Art. 86 Abs. 1 , A...</td>\n",
       "      <td>48</td>\n",
       "      <td>[139 I 229 E, 134 II 244 E, 137 I 58 E, 136 II...</td>\n",
       "      <td>7</td>\n",
       "      <td>[2C_769/2015, 2C_769/2015, 2C_769/2015, 2C_769...</td>\n",
       "      <td>8</td>\n",
       "    </tr>\n",
       "    <tr>\n",
       "      <th>1</th>\n",
       "      <td>'2017</td>\n",
       "      <td>7</td>\n",
       "      <td>3</td>\n",
       "      <td>02.06.2017</td>\n",
       "      <td>2C_68/2016</td>\n",
       "      <td>Finances publiques &amp; droit fiscal</td>\n",
       "      <td>Impôt de succession</td>\n",
       "      <td>\\n      \\n\\xa0\\nBundesgericht\\xa0\\nTribunal f\\...</td>\n",
       "      <td>02</td>\n",
       "      <td>06</td>\n",
       "      <td>2017</td>\n",
       "      <td>29130</td>\n",
       "      <td>[]</td>\n",
       "      <td>0</td>\n",
       "      <td>[]</td>\n",
       "      <td>0</td>\n",
       "      <td>[2C_164/2015, 2C_242/2014, 1C_279/2016, 2C_744...</td>\n",
       "      <td>4</td>\n",
       "    </tr>\n",
       "    <tr>\n",
       "      <th>2</th>\n",
       "      <td>'2017</td>\n",
       "      <td>7</td>\n",
       "      <td>3</td>\n",
       "      <td>06.06.2017</td>\n",
       "      <td>9C_46/2017</td>\n",
       "      <td>Invalidenversicherung</td>\n",
       "      <td>Invalidenversicherung</td>\n",
       "      <td>\\n      \\n\\xa0\\nBundesgericht\\xa0\\nTribunal f\\...</td>\n",
       "      <td>06</td>\n",
       "      <td>06</td>\n",
       "      <td>2017</td>\n",
       "      <td>17454</td>\n",
       "      <td>[Art. 13 Abs. 1 , Art. 14 Abs. 1 , Art. 90 BGG...</td>\n",
       "      <td>18</td>\n",
       "      <td>[140 V 282 E]</td>\n",
       "      <td>1</td>\n",
       "      <td>[9C_299/2016, 9C_299/2016]</td>\n",
       "      <td>2</td>\n",
       "    </tr>\n",
       "  </tbody>\n",
       "</table>\n",
       "</div>"
      ],
      "text/plain": [
       "  publ_year  publ_month  publ_day decision_date        number  \\\n",
       "0     '2017           7         3    29.05.2017  2C_1153/2016   \n",
       "1     '2017           7         3    02.06.2017    2C_68/2016   \n",
       "2     '2017           7         3    06.06.2017    9C_46/2017   \n",
       "\n",
       "                                 subject  \\\n",
       "0  Gesundheitswesen & soziale Sicherheit   \n",
       "1      Finances publiques & droit fiscal   \n",
       "2                  Invalidenversicherung   \n",
       "\n",
       "                                        subject_desc  \\\n",
       "0  Bronchialpastillen, Verlängerung der Zulassung...   \n",
       "1                                Impôt de succession   \n",
       "2                              Invalidenversicherung   \n",
       "\n",
       "                                             content dec_day dec_month  \\\n",
       "0  \\n      \\n\\xa0\\nBundesgericht\\xa0\\nTribunal f\\...      29        05   \n",
       "1  \\n      \\n\\xa0\\nBundesgericht\\xa0\\nTribunal f\\...      02        06   \n",
       "2  \\n      \\n\\xa0\\nBundesgericht\\xa0\\nTribunal f\\...      06        06   \n",
       "\n",
       "  dec_year  content_len                                       ref_articles  \\\n",
       "0     2017        21835  [Art. 84 Abs. 1 , Art. 82 , Art. 86 Abs. 1 , A...   \n",
       "1     2017        29130                                                 []   \n",
       "2     2017        17454  [Art. 13 Abs. 1 , Art. 14 Abs. 1 , Art. 90 BGG...   \n",
       "\n",
       "   ref_articles_len                                            ref_bge  \\\n",
       "0                48  [139 I 229 E, 134 II 244 E, 137 I 58 E, 136 II...   \n",
       "1                 0                                                 []   \n",
       "2                18                                      [140 V 282 E]   \n",
       "\n",
       "   ref_bge_len                                           ref_publ  \\\n",
       "0            7  [2C_769/2015, 2C_769/2015, 2C_769/2015, 2C_769...   \n",
       "1            0  [2C_164/2015, 2C_242/2014, 1C_279/2016, 2C_744...   \n",
       "2            1                         [9C_299/2016, 9C_299/2016]   \n",
       "\n",
       "   ref_publ_len  \n",
       "0             8  \n",
       "1             4  \n",
       "2             2  "
      ]
     },
     "execution_count": 80,
     "metadata": {},
     "output_type": "execute_result"
    }
   ],
   "source": [
    "def transform(x):\n",
    "    #x['publ_year'] = int(x['publ_year'].replace(\"'\", \"\"))\n",
    "    x['dec_day'], x['dec_month'], x['dec_year'] = x['decision_date'].split('.')\n",
    "    x['content_len'] = len(x['content'])\n",
    "\n",
    "    # Get references\n",
    "    # Doesnt work with § or eg \"Art. 40 Abs. 1 des Bundesgerichtsreglements\"\n",
    "    reg = r'Art\\. \\d+ (?:[A-Za-z\\.]{0,5} \\d{1}\\d?)?(?:[ A-Z]{0,5})?'\n",
    "    x['ref_articles'] = re.findall(reg, x['content'])\n",
    "    x['ref_articles_len'] = len(x['ref_articles'])\n",
    "    # for BGE ...\n",
    "    reg = r'\\d{0,3} [IV]{1,3} \\d{0,3} E'\n",
    "    x['ref_bge'] = re.findall(reg, x['content'])\n",
    "    x['ref_bge_len'] = len(x['ref_bge'])\n",
    "    # for 1C_573/2016 ...\n",
    "    reg = r'\\d[A-Z]_\\d{3}\\/\\d{4}'\n",
    "    x['ref_publ'] = re.findall(reg, x['content'])\n",
    "    x['ref_publ_len'] = len(x['ref_publ'])\n",
    "    return x\n",
    "\n",
    "df = df.apply(transform, axis=1)\n",
    "\n",
    "# Type casting, for performance\n",
    "conv = df.select_dtypes(include=['int']).apply(pd.to_numeric,downcast='unsigned')\n",
    "df[conv.columns] = conv\n",
    "\n",
    "conv = df.select_dtypes(include=['float']).apply(pd.to_numeric,downcast='float')\n",
    "df[conv.columns] = conv\n",
    "del conv\n",
    "\n",
    "df.head(3)\n",
    "\n",
    "#df.dtypes\n",
    "\n",
    "# Hole Referenzen (BGE, Artikel) aus den BGE\n",
    "# Score Referenzen\n",
    "# Darstellen"
   ]
  },
  {
   "cell_type": "code",
   "execution_count": 77,
   "metadata": {},
   "outputs": [
    {
     "data": {
      "image/png": "[encoded data removed]",
      "text/plain": [
       "<matplotlib.figure.Figure at 0x114a12080>"
      ]
     },
     "metadata": {},
     "output_type": "display_data"
    },
    {
     "data": {
      "image/png": "[encoded data removed]",
      "text/plain": [
       "<matplotlib.figure.Figure at 0x114a12550>"
      ]
     },
     "metadata": {},
     "output_type": "display_data"
    }
   ],
   "source": [
    "df['content_len'].hist(bins=50)\n",
    "plt.xlim([0, 120000])\n",
    "plt.show()\n",
    "\n",
    "df['publ_month'].hist(bins=12)\n",
    "plt.show()"
   ]
  },
  {
   "cell_type": "code",
   "execution_count": 25,
   "metadata": {},
   "outputs": [
    {
     "data": {
      "image/png": "[encoded data removed]",
      "text/plain": [
       "<matplotlib.figure.Figure at 0x114ec5eb8>"
      ]
     },
     "metadata": {},
     "output_type": "display_data"
    }
   ],
   "source": [
    "df['ref_articles_len'].hist(bins=50, alpha=0.7, label='articles')\n",
    "df['ref_bge_len'].hist(bins=50, alpha=0.7, label='bge')\n",
    "df['ref_publ_len'].hist(bins=50, alpha=0.7, label='publ')\n",
    "plt.legend()\n",
    "plt.show()"
   ]
  },
  {
   "cell_type": "code",
   "execution_count": 90,
   "metadata": {
    "scrolled": false
   },
   "outputs": [],
   "source": [
    "# df[df['ref_publ_len'] < 3].iloc[0]['content']\n",
    "import networkx as nx\n",
    "from networkx.readwrite import json_graph\n",
    "import json\n",
    "G = nx.Graph()\n",
    "i = 0\n",
    "for x in df.iterrows():\n",
    "    for ref_publ in x[1]['ref_publ']:\n",
    "        G.add_edge(str(x[1]['number']), str(ref_publ))\n",
    "        i += 1\n",
    "    if i > 30:\n",
    "        break\n",
    "    \n",
    "data = json_graph.node_link_data(G)\n",
    "json.dump(data, open('graph.json','w'))\n",
    "#nx.spring_layout(G)\n",
    "#nx.draw(G, with_labels = True)\n",
    "#plt.show()"
   ]
  },
  {
   "cell_type": "code",
   "execution_count": null,
   "metadata": {
    "collapsed": true
   },
   "outputs": [],
   "source": []
  }
 ],
 "metadata": {
  "kernelspec": {
   "display_name": "Python 3",
   "language": "python",
   "name": "python3"
  },
  "language_info": {
   "codemirror_mode": {
    "name": "ipython",
    "version": 3
   },
   "file_extension": ".py",
   "mimetype": "text/x-python",
   "name": "python",
   "nbconvert_exporter": "python",
   "pygments_lexer": "ipython3",
   "version": "3.6.2"
  }
 },
 "nbformat": 4,
 "nbformat_minor": 2
}
