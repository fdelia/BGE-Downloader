{
 "cells": [
  {
   "cell_type": "code",
   "execution_count": 73,
   "metadata": {},
   "outputs": [
    {
     "data": {
      "text/plain": [
       "7781"
      ]
     },
     "execution_count": 73,
     "metadata": {},
     "output_type": "execute_result"
    }
   ],
   "source": [
    "import numpy as np\n",
    "import pandas as pd\n",
    "import os\n",
    "import matplotlib.pyplot as plt\n",
    "files = os.listdir('data')\n",
    "df = np.empty([0, 8])\n",
    "for file in files:\n",
    "    if \"publ_2017\" not in file: continue\n",
    "    #arr = np.genfromtxt('data/'+file, delimiter=\"','\")\n",
    "    arr = pd.read_csv('data/'+file, delimiter=\"','\", engine='python')\n",
    "    #if arr.shape[0] == 0: continue\n",
    "    df = np.concatenate((df, arr))\n",
    "df = pd.DataFrame(df, columns=['publ_year', 'publ_month', 'publ_day', 'decision_date', 'number', 'subject', 'subject_desc', 'content'])\n",
    "len(df)"
   ]
  },
  {
   "cell_type": "code",
   "execution_count": 76,
   "metadata": {},
   "outputs": [
    {
     "data": {
      "text/html": [
       "<div>\n",
       "<style>\n",
       "    .dataframe thead tr:only-child th {\n",
       "        text-align: right;\n",
       "    }\n",
       "\n",
       "    .dataframe thead th {\n",
       "        text-align: left;\n",
       "    }\n",
       "\n",
       "    .dataframe tbody tr th {\n",
       "        vertical-align: top;\n",
       "    }\n",
       "</style>\n",
       "<table border=\"1\" class=\"dataframe\">\n",
       "  <thead>\n",
       "    <tr style=\"text-align: right;\">\n",
       "      <th></th>\n",
       "      <th>publ_year</th>\n",
       "      <th>publ_month</th>\n",
       "      <th>publ_day</th>\n",
       "      <th>decision_date</th>\n",
       "      <th>number</th>\n",
       "      <th>subject</th>\n",
       "      <th>subject_desc</th>\n",
       "      <th>content</th>\n",
       "      <th>dec_day</th>\n",
       "      <th>dec_month</th>\n",
       "      <th>dec_year</th>\n",
       "      <th>content_len</th>\n",
       "    </tr>\n",
       "  </thead>\n",
       "  <tbody>\n",
       "    <tr>\n",
       "      <th>0</th>\n",
       "      <td>2017</td>\n",
       "      <td>1</td>\n",
       "      <td>3</td>\n",
       "      <td>08.11.2016</td>\n",
       "      <td>4A_391/2016</td>\n",
       "      <td>Diritto contrattuale</td>\n",
       "      <td>inabilità al lavoro</td>\n",
       "      <td>\\n      \\n\\xa0\\nBundesgericht\\xa0\\nTribunal f\\...</td>\n",
       "      <td>08</td>\n",
       "      <td>11</td>\n",
       "      <td>2016</td>\n",
       "      <td>17811</td>\n",
       "    </tr>\n",
       "    <tr>\n",
       "      <th>1</th>\n",
       "      <td>'2017</td>\n",
       "      <td>1</td>\n",
       "      <td>3</td>\n",
       "      <td>05.12.2016</td>\n",
       "      <td>8C_929/2015</td>\n",
       "      <td>Assurance-accidents</td>\n",
       "      <td>Assurance-accidents</td>\n",
       "      <td>\\n      \\n\\xa0\\nBundesgericht\\xa0\\nTribunal f\\...</td>\n",
       "      <td>05</td>\n",
       "      <td>12</td>\n",
       "      <td>2016</td>\n",
       "      <td>32396</td>\n",
       "    </tr>\n",
       "    <tr>\n",
       "      <th>2</th>\n",
       "      <td>'2017</td>\n",
       "      <td>1</td>\n",
       "      <td>3</td>\n",
       "      <td>05.12.2016</td>\n",
       "      <td>9C_557/2016</td>\n",
       "      <td>Invalidenversicherung</td>\n",
       "      <td>Invalidenversicherung</td>\n",
       "      <td>\\n      \\n\\xa0\\nBundesgericht\\xa0\\nTribunal f\\...</td>\n",
       "      <td>05</td>\n",
       "      <td>12</td>\n",
       "      <td>2016</td>\n",
       "      <td>2549</td>\n",
       "    </tr>\n",
       "  </tbody>\n",
       "</table>\n",
       "</div>"
      ],
      "text/plain": [
       "  publ_year  publ_month  publ_day decision_date       number  \\\n",
       "0      2017           1         3    08.11.2016  4A_391/2016   \n",
       "1     '2017           1         3    05.12.2016  8C_929/2015   \n",
       "2     '2017           1         3    05.12.2016  9C_557/2016   \n",
       "\n",
       "                 subject           subject_desc  \\\n",
       "0   Diritto contrattuale    inabilità al lavoro   \n",
       "1    Assurance-accidents    Assurance-accidents   \n",
       "2  Invalidenversicherung  Invalidenversicherung   \n",
       "\n",
       "                                             content dec_day dec_month  \\\n",
       "0  \\n      \\n\\xa0\\nBundesgericht\\xa0\\nTribunal f\\...      08        11   \n",
       "1  \\n      \\n\\xa0\\nBundesgericht\\xa0\\nTribunal f\\...      05        12   \n",
       "2  \\n      \\n\\xa0\\nBundesgericht\\xa0\\nTribunal f\\...      05        12   \n",
       "\n",
       "  dec_year  content_len  \n",
       "0     2016        17811  \n",
       "1     2016        32396  \n",
       "2     2016         2549  "
      ]
     },
     "execution_count": 76,
     "metadata": {},
     "output_type": "execute_result"
    }
   ],
   "source": [
    "def transform(x):\n",
    "    #x['publ_year'] = int(x['publ_year'].replace(\"'\", \"\"))\n",
    "    x['dec_day'], x['dec_month'], x['dec_year'] = x['decision_date'].split('.')\n",
    "    x['content_len'] = len(x['content'])\n",
    "\n",
    "    # Get references\n",
    "    # Doesnt work with § or eg \"Art. 40 Abs. 1 des Bundesgerichtsreglements\"\n",
    "    # Art\\. \\d+ (?:[A-Za-z\\.]{0,5} \\d{1}\\d?)?(?:[ A-Z]{0,5})?\n",
    "    # for BGE ...\n",
    "    # \\d{0,3} [IV]{1,3} \\d{0,3} E\n",
    "    # for 1C_573/2016 ...\n",
    "    # \\d[A-Z]_\\d{3}\\/\\d{4}\n",
    "    \n",
    "    \n",
    "    return x\n",
    "\n",
    "df = df.apply(transform, axis=1)\n",
    "\n",
    "\n",
    "# Type casting, for performance\n",
    "conv = df.select_dtypes(include=['int']).apply(pd.to_numeric,downcast='unsigned')\n",
    "df[conv.columns] = conv\n",
    "\n",
    "conv = df.select_dtypes(include=['float']).apply(pd.to_numeric,downcast='float')\n",
    "df[conv.columns] = conv\n",
    "del conv\n",
    "\n",
    "df.head(3)\n",
    "\n",
    "#df.dtypes\n",
    "\n",
    "# Hole Referenzen (BGE, Artikel) aus den BGE\n",
    "# Score Referenzen\n",
    "# Darstellen"
   ]
  },
  {
   "cell_type": "code",
   "execution_count": 77,
   "metadata": {},
   "outputs": [
    {
     "data": {
      "image/png": "[encoded data removed]",
      "text/plain": [
       "<matplotlib.figure.Figure at 0x114a12080>"
      ]
     },
     "metadata": {},
     "output_type": "display_data"
    },
    {
     "data": {
      "image/png": "[encoded data removed]",
      "text/plain": [
       "<matplotlib.figure.Figure at 0x114a12550>"
      ]
     },
     "metadata": {},
     "output_type": "display_data"
    }
   ],
   "source": [
    "df['content_len'].hist(bins=50)\n",
    "plt.xlim([0, 120000])\n",
    "plt.show()\n",
    "\n",
    "df['publ_month'].hist(bins=12)\n",
    "plt.show()"
   ]
  },
  {
   "cell_type": "code",
   "execution_count": null,
   "metadata": {
    "collapsed": true
   },
   "outputs": [],
   "source": []
  }
 ],
 "metadata": {
  "kernelspec": {
   "display_name": "Python 3",
   "language": "python",
   "name": "python3"
  },
  "language_info": {
   "codemirror_mode": {
    "name": "ipython",
    "version": 3
   },
   "file_extension": ".py",
   "mimetype": "text/x-python",
   "name": "python",
   "nbconvert_exporter": "python",
   "pygments_lexer": "ipython3",
   "version": "3.6.2"
  }
 },
 "nbformat": 4,
 "nbformat_minor": 2
}
